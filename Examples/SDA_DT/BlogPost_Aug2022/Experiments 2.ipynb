{
 "cells": [
  {
   "cell_type": "code",
   "execution_count": 13,
   "metadata": {},
   "outputs": [],
   "source": [
    "import json\n",
    "import pandas as pd\n",
    "from GeoPlot.interactive import Map\n",
    "import pandas as pd\n",
    "import numpy as np\n",
    "from scipy.interpolate import griddata\n",
    "\n",
    "with open('RoutePlanner_fuel_output.json', 'r') as f:\n",
    "    info = json.load(f)\n",
    "\n",
    "config = info['config']\n",
    "mesh   = pd.DataFrame(info['cellboxes'])\n"
   ]
  },
  {
   "cell_type": "markdown",
   "metadata": {},
   "source": [
    "## Plotting the Waypoints & Sea-Ice Concentration"
   ]
  },
  {
   "cell_type": "code",
   "execution_count": 20,
   "metadata": {},
   "outputs": [],
   "source": [
    "mp = Map(config)\n",
    "\n",
    "Artic_AMSR = pd.read_csv('AMSR_raw.csv')\n",
    "xmin = -120;xmax = -10;xsep = 0.1\n",
    "ymin = -80;ymax = -45; ysep = 0.1\n",
    "bounds = [[ymin,xmin],[ymax,xmax]]\n",
    "X,Y = np.meshgrid(np.arange(xmin,xmax,xsep),np.arange(ymin,ymax,ysep))\n",
    "Z = griddata(Artic_AMSR[['Long','Lat']].to_numpy(), Artic_AMSR['Mean'].to_numpy(), (X, Y), method='linear')*100\n",
    "mp.MapArray(Z,bounds,'RAW SIC')\n",
    "mp.Maps(mesh,'SIC',predefined='SIC',show=False)\n",
    "mp.Maps(mesh,'Land Mask',predefined='Land Mask')\n",
    "mp.show()\n",
    "mp.map.save('Example1.html')\n"
   ]
  },
  {
   "cell_type": "code",
   "execution_count": 21,
   "metadata": {},
   "outputs": [],
   "source": [
    "mp = Map(config)\n",
    "mp.Maps(mesh,'SIC',predefined='SIC')\n",
    "mp.Maps(mesh,'Fuel Usage',predefined='Fuel',show=False)\n",
    "mp.Maps(mesh,'Extreme Ice',predefined='Extreme Sea Ice Conc')\n",
    "mp.Maps(mesh,'Land Mask',predefined='Land Mask')\n",
    "mp.show()\n",
    "mp.map.save('Example2.html')\n",
    "\n"
   ]
  },
  {
   "cell_type": "code",
   "execution_count": 16,
   "metadata": {},
   "outputs": [],
   "source": [
    "paths  = info['Paths']\n",
    "waypoints = pd.DataFrame(info['config']['Route_Info']['WayPoints'])\n",
    "\n",
    "\n",
    "\n",
    "mp = Map(config)\n",
    "mp.Maps(mesh,'SIC',predefined='SIC')\n",
    "mp.Maps(mesh,'Extreme Ice',predefined='Extreme Sea Ice Conc')\n",
    "mp.Maps(mesh,'Land Mask',predefined='Land Mask')\n",
    "\n",
    "\n",
    "mp.Paths(paths,'Routes - Traveltime',predefined='Route Traveltime Paths')\n",
    "mp.Paths(paths,'Routes - Fuel',predefined='Route Fuel Paths')\n",
    "\n",
    "# Plotting Waypoints\n",
    "ports = ['Halley','Rothera','Falklands']\n",
    "waypoints_ports   = waypoints[waypoints['Name'].isin(ports)]\n",
    "waypoints_science = waypoints[~waypoints['Name'].isin(ports)]\n",
    "mp.Points(waypoints_ports,'Waypoints',icon='circle',marker_size=1.5,color='blue')\n",
    "mp.Points(waypoints_ports,'Waypoints',icon='anchor',marker_size=1.0,color='white',names={\"font_size\":10.0})\n",
    "mp.Points(waypoints_science,'Waypoints',icon='circle',marker_size=1.5,color='black')\n",
    "mp.Points(waypoints_science,'Waypoints',icon='flask',marker_size=1.0,color='white',names={\"font_size\":10.0})\n",
    "\n",
    "mp.show()\n",
    "mp.map.save('Example3.html')"
   ]
  },
  {
   "cell_type": "code",
   "execution_count": 3,
   "metadata": {},
   "outputs": [],
   "source": [
    "# def io_paths(paths):\n",
    "\n",
    "#     if type(paths) is dict:\n",
    "#         import numpy as np\n",
    "#         pths_df_lst = []\n",
    "#         for pth in paths['features']:\n",
    "#             pth_sr = pd.Series(dtype='object')\n",
    "#             coords = np.array(pth['geometry']['coordinates'])\n",
    "#             pth_sr['coordinates'] = coords\n",
    "#             for key in pth['properties'].keys():\n",
    "#                 pth_sr[key] = pth['properties'][key]\n",
    "#             pths_df_lst.append(pth_sr)\n",
    "#         pths_df = pd.DataFrame(pths_df_lst)\n",
    "#         return pths_df\n",
    "\n",
    "#     elif type(paths) is pd.core.frame.DataFrame:\n",
    "#         pths_geojson = {}\n",
    "#         pths_geojson['type']     = 'FeatureCollection'\n",
    "#         pths = []\n",
    "#         for idx,row in paths.iterrows():\n",
    "#             pth = {}\n",
    "#             pth['type'] = 'Feature'\n",
    "#             pth['geometry'] = {}\n",
    "#             pth['geometry']['type'] = 'LineString'\n",
    "#             pth['geometry']['coordinates'] = row['coordinates'].tolist()\n",
    "\n",
    "#             pth['properties']={}\n",
    "#             for key in row.index:\n",
    "#                 if key != 'coordinates':\n",
    "#                     pth['properties'][key] = row[key]\n",
    "#             pths.append(pth)\n",
    "            \n",
    "#         pths_geojson['features'] = pths\n",
    "#         return pths_geojson\n",
    "\n",
    "#     else:\n",
    "#         print('Please Specify either GeoJSON or Pandas DataFrame Form')"
   ]
  },
  {
   "cell_type": "code",
   "execution_count": 4,
   "metadata": {},
   "outputs": [],
   "source": [
    "# paths  = info['Paths']\n",
    "# waypoints = pd.DataFrame(info['config']['Route_Info']['WayPoints'])\n",
    "\n",
    "\n",
    "# pths_df = io_paths(paths)\n",
    "# pths_df = pths_df[pths_df['from'] == 'Halley']\n",
    "# pths_geojson = io_paths(pths_df)\n",
    "\n",
    "\n",
    "# mp = Map(config)\n",
    "\n",
    "# Artic_AMSR = pd.read_csv('AMSR_raw.csv')\n",
    "# xmin = -120;xmax = -10;xsep = 0.1\n",
    "# ymin = -80;ymax = -45; ysep = 0.1\n",
    "# bounds = [[ymin,xmin],[ymax,xmax]]\n",
    "# X,Y = np.meshgrid(np.arange(xmin,xmax,xsep),np.arange(ymin,ymax,ysep))\n",
    "# Z = griddata(Artic_AMSR[['Long','Lat']].to_numpy(), Artic_AMSR['Mean'].to_numpy(), (X, Y), method='linear')*100\n",
    "# mp.MapArray(Z,bounds,'RAW SIC')\n",
    "\n",
    "\n",
    "\n",
    "# mp.Maps(mesh,'SIC',predefined='SIC')\n",
    "# mp.Maps(mesh,'Elevation',predefined='Elev',show=False)\n",
    "# mp.Maps(mesh,'Fuel Usage',predefined='Fuel',show=False)\n",
    "# mp.Maps(mesh,'Extreme Ice',predefined='Extreme Sea Ice Conc')\n",
    "# mp.Maps(mesh,'Land Mask',predefined='Land Mask')\n",
    "\n",
    "\n",
    "# mp.Paths(pths_geojson,'Routes - Traveltime',predefined='Route Traveltime Paths')\n",
    "# mp.Paths(pths_geojson,'Routes - Fuel',predefined='Route Fuel Paths')\n",
    "\n",
    "\n",
    "\n",
    "# # Plotting Waypoints\n",
    "# ports = ['Halley','Rothera','Falklands']\n",
    "# waypoints_ports   = waypoints[waypoints['Name'].isin(ports)]\n",
    "# waypoints_science = waypoints[~waypoints['Name'].isin(ports)]\n",
    "# mp.Points(waypoints_ports,'Waypoints',icon='circle',marker_size=1.5,color='blue')\n",
    "# mp.Points(waypoints_ports,'Waypoints',icon='anchor',marker_size=1.0,color='white',names={\"font_size\":10.0})\n",
    "# mp.Points(waypoints_science,'Waypoints',icon='circle',marker_size=1.5,color='black')\n",
    "# mp.Points(waypoints_science,'Waypoints',icon='flask',marker_size=1.0,color='white',names={\"font_size\":10.0})\n",
    "\n",
    "# mp.Geotiff('Weddle_4326.tiff','Modis',show=False)\n",
    "\n",
    "\n",
    "# #mp.TimeData(pths_geojson)\n",
    "# #mp.MeshInfo(mesh,'Mesh Info',show=False)\n",
    "# mp.save('Test.html')"
   ]
  },
  {
   "cell_type": "code",
   "execution_count": null,
   "metadata": {},
   "outputs": [],
   "source": []
  }
 ],
 "metadata": {
  "kernelspec": {
   "display_name": "Python 3.8.9 64-bit",
   "language": "python",
   "name": "python3"
  },
  "language_info": {
   "codemirror_mode": {
    "name": "ipython",
    "version": 3
   },
   "file_extension": ".py",
   "mimetype": "text/x-python",
   "name": "python",
   "nbconvert_exporter": "python",
   "pygments_lexer": "ipython3",
   "version": "3.8.9"
  },
  "orig_nbformat": 4,
  "vscode": {
   "interpreter": {
    "hash": "31f2aee4e71d21fbe5cf8b01ff0e069b9275f58929596ceb00d14d90e3e16cd6"
   }
  }
 },
 "nbformat": 4,
 "nbformat_minor": 2
}
